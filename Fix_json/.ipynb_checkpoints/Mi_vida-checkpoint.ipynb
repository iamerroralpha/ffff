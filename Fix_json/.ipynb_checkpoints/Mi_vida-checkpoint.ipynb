{
 "cells": [
  {
   "cell_type": "code",
   "execution_count": 1,
   "metadata": {},
   "outputs": [],
   "source": [
    "import os\n",
    "import json\n",
    "import glob\n",
    "import re"
   ]
  },
  {
   "cell_type": "code",
   "execution_count": 2,
   "metadata": {},
   "outputs": [],
   "source": [
    "os.chdir('Task2_Train')\n",
    "fields = []\n",
    "for file in glob.glob(\"*.txt\"):\n",
    "    fields.append(file)\n",
    "os.chdir('..')"
   ]
  },
  {
   "cell_type": "code",
   "execution_count": 3,
   "metadata": {},
   "outputs": [
    {
     "data": {
      "text/plain": [
       "'X51007339658.txt'"
      ]
     },
     "execution_count": 3,
     "metadata": {},
     "output_type": "execute_result"
    }
   ],
   "source": [
    "image = fields[0]\n",
    "image"
   ]
  },
  {
   "cell_type": "code",
   "execution_count": 4,
   "metadata": {},
   "outputs": [],
   "source": [
    "os.chdir('Task2_Train')\n",
    "with open(image) as json_file:\n",
    "    data = json.load(json_file)\n",
    "    company = (data['company'])\n",
    "    date = (data['date'])\n",
    "    address = (data['address'])\n",
    "    total = (data['total'])\n",
    "os.chdir('..')"
   ]
  },
  {
   "cell_type": "code",
   "execution_count": 5,
   "metadata": {},
   "outputs": [],
   "source": [
    "os.chdir('Task1_Train')\n",
    "f = open(image,'r')\n",
    "\n",
    "def get_new_line(file):\n",
    "    l = file.readline()\n",
    "    length = len(l)\n",
    "    l = l[:length-1]\n",
    "    os.chdir('..')\n",
    "    return l"
   ]
  },
  {
   "cell_type": "code",
   "execution_count": 6,
   "metadata": {},
   "outputs": [],
   "source": [
    "def get_number(l):\n",
    "    m = re.search('^(.+?),', l)\n",
    "    n1 = m.group(0)\n",
    "    length = len(n1)\n",
    "    l = l[length:]\n",
    "    n1 = n1[:length-1]\n",
    "    n1\n",
    "    return n1, l"
   ]
  },
  {
   "cell_type": "code",
   "execution_count": 7,
   "metadata": {},
   "outputs": [],
   "source": [
    "def get_vectors(li):\n",
    "    n = []\n",
    "    for element in range(8):\n",
    "        n_i, li = get_number(li)\n",
    "        n.append(n_i)\n",
    "    return li, [n[2], n[0], n[5], n[1]]"
   ]
  },
  {
   "cell_type": "code",
   "execution_count": 8,
   "metadata": {},
   "outputs": [],
   "source": [
    "l1,n1 = get_vectors(get_new_line(f))"
   ]
  },
  {
   "cell_type": "code",
   "execution_count": 9,
   "metadata": {},
   "outputs": [
    {
     "data": {
      "text/plain": [
       "'AIK HUAT HARDWARE ENTERPRISE (SETIA ALAM) SDN BHD'"
      ]
     },
     "execution_count": 9,
     "metadata": {},
     "output_type": "execute_result"
    }
   ],
   "source": [
    "data['company']"
   ]
  },
  {
   "cell_type": "code",
   "execution_count": 10,
   "metadata": {},
   "outputs": [],
   "source": [
    "l2, n2 = get_vectors(get_new_line(f))\n",
    "l3, n3 = get_vectors(get_new_line(f))\n",
    "l4, n4 = get_vectors(get_new_line(f))"
   ]
  },
  {
   "cell_type": "code",
   "execution_count": 52,
   "metadata": {},
   "outputs": [
    {
     "data": {
      "text/plain": [
       "[['331', '228', '300', '279'],\n",
       " ['491', '65', '230', '204'],\n",
       " ['493', '62', '256', '231'],\n",
       " ['439', '113', '276', '255']]"
      ]
     },
     "execution_count": 52,
     "metadata": {},
     "output_type": "execute_result"
    }
   ],
   "source": [
    "l = [l4, l1, l2, l3]\n",
    "n = [n4, n1, n2, n3]\n",
    "n"
   ]
  },
  {
   "cell_type": "code",
   "execution_count": 18,
   "metadata": {},
   "outputs": [
    {
     "data": {
      "text/plain": [
       "'AIK HUAT HARDWARE ENTERPRISE (SETIA ALAM) SDN BHD'"
      ]
     },
     "execution_count": 18,
     "metadata": {},
     "output_type": "execute_result"
    }
   ],
   "source": [
    "data['company']"
   ]
  },
  {
   "cell_type": "code",
   "execution_count": 56,
   "metadata": {},
   "outputs": [],
   "source": [
    "#data['company'] == lt\n",
    "#data['company'] in lt\n",
    "#text_string = data['company']\n",
    "def backwards_search(matching_list, numbers_array, text_string):\n",
    "    for element in range(len(matching_list)):\n",
    "        lt = ''\n",
    "        for phrase in matching_list[len(matching_list)-element-1:]:\n",
    "            lt = lt + ' ' + phrase\n",
    "        lt = lt[1:]\n",
    "        matching = lt\n",
    "        if text_string == matching:\n",
    "            print(lt)\n",
    "            print(element)\n",
    "            print(data['company'] == str(lt))\n",
    "            return True, numbers_array[len(matching_list)-element-1:]"
   ]
  },
  {
   "cell_type": "code",
   "execution_count": 58,
   "metadata": {},
   "outputs": [
    {
     "name": "stdout",
     "output_type": "stream",
     "text": [
      "AIK HUAT HARDWARE ENTERPRISE (SETIA ALAM) SDN BHD\n",
      "2\n",
      "True\n"
     ]
    },
    {
     "data": {
      "text/plain": [
       "[['491', '65', '230', '204'],\n",
       " ['493', '62', '256', '231'],\n",
       " ['439', '113', '276', '255']]"
      ]
     },
     "execution_count": 58,
     "metadata": {},
     "output_type": "execute_result"
    }
   ],
   "source": [
    "flag, numbers = backwards_search(l, n, data['company'])\n",
    "numbers"
   ]
  },
  {
   "cell_type": "code",
   "execution_count": null,
   "metadata": {},
   "outputs": [],
   "source": [
    "def backwards_serach(matched_list, matched_text)\n",
    "    n_iterations = "
   ]
  }
 ],
 "metadata": {
  "kernelspec": {
   "display_name": "Python 3",
   "language": "python",
   "name": "python3"
  },
  "language_info": {
   "codemirror_mode": {
    "name": "ipython",
    "version": 3
   },
   "file_extension": ".py",
   "mimetype": "text/x-python",
   "name": "python",
   "nbconvert_exporter": "python",
   "pygments_lexer": "ipython3",
   "version": "3.6.9"
  }
 },
 "nbformat": 4,
 "nbformat_minor": 4
}
