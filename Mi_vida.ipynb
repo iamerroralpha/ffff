{
 "cells": [
  {
   "cell_type": "code",
   "execution_count": 1,
   "metadata": {},
   "outputs": [],
   "source": [
    "import os\n",
    "import json\n",
    "import glob\n",
    "import re"
   ]
  },
  {
   "cell_type": "code",
   "execution_count": 2,
   "metadata": {},
   "outputs": [],
   "source": [
    "os.chdir('Task2_Train')\n",
    "fields = []\n",
    "for file in glob.glob(\"*.txt\"):\n",
    "    fields.append(file)\n",
    "os.chdir('..')"
   ]
  },
  {
   "cell_type": "code",
   "execution_count": 3,
   "metadata": {},
   "outputs": [],
   "source": [
    "#image = fields[0]\n",
    "def open_img(name):\n",
    "    os.chdir('Task1_Train')\n",
    "    f = open(name,'r')\n",
    "    os.chdir('..')\n",
    "    return f"
   ]
  },
  {
   "cell_type": "code",
   "execution_count": 4,
   "metadata": {},
   "outputs": [],
   "source": [
    "def open_data(name):\n",
    "    os.chdir('Task2_Train')\n",
    "    with open(name) as json_file:\n",
    "        data = json.load(json_file)\n",
    "        company = (data['company'])\n",
    "        date = (data['date'])\n",
    "        address = (data['address'])\n",
    "        total = (data['total'])\n",
    "    os.chdir('..')\n",
    "    return data"
   ]
  },
  {
   "cell_type": "code",
   "execution_count": 5,
   "metadata": {},
   "outputs": [],
   "source": [
    "def get_new_line(file):\n",
    "    os.chdir('Task1_Train')\n",
    "    l = file.readline()\n",
    "    length = len(l)\n",
    "    l = l[:length-1]\n",
    "    os.chdir('..')\n",
    "    return l"
   ]
  },
  {
   "cell_type": "code",
   "execution_count": 6,
   "metadata": {},
   "outputs": [],
   "source": [
    "def get_number(l):\n",
    "    m = re.search('^(.+?),', l)\n",
    "    n1 = m.group(0)\n",
    "    length = len(n1)\n",
    "    l = l[length:]\n",
    "    n1 = n1[:length-1]\n",
    "    n1\n",
    "    return n1, l"
   ]
  },
  {
   "cell_type": "code",
   "execution_count": 7,
   "metadata": {},
   "outputs": [],
   "source": [
    "def get_vectors(li):\n",
    "    n = []\n",
    "    for element in range(8):\n",
    "        n_i, li = get_number(li)\n",
    "        n.append(n_i)\n",
    "    return li, [n[2], n[0], n[5], n[1]]"
   ]
  },
  {
   "cell_type": "code",
   "execution_count": 8,
   "metadata": {},
   "outputs": [],
   "source": [
    "#l1, n1 = get_vectors(get_new_line(f))\n",
    "#l2, n2 = get_vectors(get_new_line(f))\n",
    "#l3, n3 = get_vectors(get_new_line(f))\n",
    "#l4, n4 = get_vectors(get_new_line(f))"
   ]
  },
  {
   "cell_type": "code",
   "execution_count": 9,
   "metadata": {},
   "outputs": [],
   "source": [
    "#data['company']"
   ]
  },
  {
   "cell_type": "code",
   "execution_count": 10,
   "metadata": {},
   "outputs": [],
   "source": [
    "#l = [l4, l1, l2, l3]\n",
    "#n = [n4, n1, n2, n3]\n",
    "#n"
   ]
  },
  {
   "cell_type": "code",
   "execution_count": 11,
   "metadata": {},
   "outputs": [],
   "source": [
    "#data['company']"
   ]
  },
  {
   "cell_type": "code",
   "execution_count": 12,
   "metadata": {},
   "outputs": [],
   "source": [
    "#data['company'] == lt\n",
    "#data['company'] in lt\n",
    "#text_string = data['company']\n",
    "def backwards_search(matching_list, numbers_array, text_string):\n",
    "    print('the matching list is: ')\n",
    "    print(matching_list)\n",
    "    print('the numbers array is: ')\n",
    "    print(numbers_array)\n",
    "    for element in range(len(matching_list)):\n",
    "        lt = ''\n",
    "        for phrase in matching_list[len(matching_list)-element-1:]:\n",
    "            lt = lt + ' ' + phrase\n",
    "        lt = lt[1:]\n",
    "        #print()\n",
    "        #print('...............................')\n",
    "        #print('building_backwards: ' + lt)\n",
    "        #print()\n",
    "        matching = lt\n",
    "        if text_string == matching:\n",
    "            print('return by backwards search')\n",
    "            #print(lt)\n",
    "            #print(element)\n",
    "            #print(data['company'] == str(lt))\n",
    "            return True, numbers_array[len(matching_list)-element-1:], lt\n",
    "        for letter in matching:\n",
    "            matching = matching[1:]\n",
    "            if text_string == matching:\n",
    "                return True, numbers_array[len(matching_list)-element-1:], matching\n",
    "    return False, [], []"
   ]
  },
  {
   "cell_type": "code",
   "execution_count": 13,
   "metadata": {},
   "outputs": [],
   "source": [
    "#flag, numbers = backwards_search(l, n, data['company'])\n",
    "#numbers"
   ]
  },
  {
   "cell_type": "code",
   "execution_count": 14,
   "metadata": {},
   "outputs": [],
   "source": [
    "def forward_search(file, text_to_match):\n",
    "    match_completed = False\n",
    "    l=[]\n",
    "    n=[]\n",
    "    while not match_completed:\n",
    "        \n",
    "        #try:\n",
    "            li, ni = get_vectors(get_new_line(file))\n",
    "            l.append(li)\n",
    "            n.append(ni)\n",
    "            if li in text_to_match:\n",
    "                #print(li + ' was found in ' + text_to_match)\n",
    "                if li == text_to_match:\n",
    "                    return True, ni, li\n",
    "                else:\n",
    "                    #print(l)\n",
    "                    status, nr, lr = backwards_search(l, n, text_to_match)\n",
    "                    if status:\n",
    "                        return status, nr, lr\n",
    "            else:\n",
    "                for letter in li:\n",
    "                    li = li[1:]\n",
    "                    if li == text_to_match:\n",
    "                        return True, ni, li\n",
    "        #except:\n",
    "            #print('some shite happened, aborting...')\n",
    "            #return False, []"
   ]
  },
  {
   "cell_type": "code",
   "execution_count": 15,
   "metadata": {},
   "outputs": [
    {
     "name": "stdout",
     "output_type": "stream",
     "text": [
      "the matching list is: \n",
      "['AIK HUAT HARDWARE']\n",
      "the numbers array is: \n",
      "[['491', '65', '230', '204']]\n",
      "the matching list is: \n",
      "['AIK HUAT HARDWARE', 'ENTERPRISE (SETIA']\n",
      "the numbers array is: \n",
      "[['491', '65', '230', '204'], ['493', '62', '256', '231']]\n",
      "the matching list is: \n",
      "['AIK HUAT HARDWARE', 'ENTERPRISE (SETIA', 'ALAM) SDN BHD']\n",
      "the numbers array is: \n",
      "[['491', '65', '230', '204'], ['493', '62', '256', '231'], ['439', '113', '276', '255']]\n",
      "return by backwards search\n"
     ]
    }
   ],
   "source": [
    "flag, n, l = forward_search(open_img(fields[0]), open_data(fields[0])['company'])\n",
    "#flag, n = forward_search(open_img(fields[0]), open_data(fields[0])['date'])"
   ]
  },
  {
   "cell_type": "code",
   "execution_count": 16,
   "metadata": {},
   "outputs": [
    {
     "data": {
      "text/plain": [
       "'AIK HUAT HARDWARE ENTERPRISE (SETIA ALAM) SDN BHD'"
      ]
     },
     "execution_count": 16,
     "metadata": {},
     "output_type": "execute_result"
    }
   ],
   "source": [
    "open_data(fields[0])['company']"
   ]
  },
  {
   "cell_type": "code",
   "execution_count": 17,
   "metadata": {},
   "outputs": [
    {
     "data": {
      "text/plain": [
       "'AIK HUAT HARDWARE ENTERPRISE (SETIA ALAM) SDN BHD'"
      ]
     },
     "execution_count": 17,
     "metadata": {},
     "output_type": "execute_result"
    }
   ],
   "source": [
    "l"
   ]
  },
  {
   "cell_type": "code",
   "execution_count": 18,
   "metadata": {},
   "outputs": [
    {
     "data": {
      "text/plain": [
       "[['491', '65', '230', '204'],\n",
       " ['493', '62', '256', '231'],\n",
       " ['439', '113', '276', '255']]"
      ]
     },
     "execution_count": 18,
     "metadata": {},
     "output_type": "execute_result"
    }
   ],
   "source": [
    "n"
   ]
  },
  {
   "cell_type": "code",
   "execution_count": 19,
   "metadata": {},
   "outputs": [
    {
     "name": "stdout",
     "output_type": "stream",
     "text": [
      "the matching list is: \n",
      "['AIK HUAT HARDWARE', 'ENTERPRISE (SETIA', 'ALAM) SDN BHD', '822737-X', 'NO. 17-G, JALAN SETIA INDAH']\n",
      "the numbers array is: \n",
      "[['491', '65', '230', '204'], ['493', '62', '256', '231'], ['439', '113', '276', '255'], ['331', '228', '300', '279'], ['447', '106', '327', '302']]\n",
      "the matching list is: \n",
      "['AIK HUAT HARDWARE', 'ENTERPRISE (SETIA', 'ALAM) SDN BHD', '822737-X', 'NO. 17-G, JALAN SETIA INDAH', '(X) U13/X, SETIA ALAM,']\n",
      "the numbers array is: \n",
      "[['491', '65', '230', '204'], ['493', '62', '256', '231'], ['439', '113', '276', '255'], ['331', '228', '300', '279'], ['447', '106', '327', '302'], ['418', '140', '352', '327']]\n",
      "the matching list is: \n",
      "['AIK HUAT HARDWARE', 'ENTERPRISE (SETIA', 'ALAM) SDN BHD', '822737-X', 'NO. 17-G, JALAN SETIA INDAH', '(X) U13/X, SETIA ALAM,', 'SEKSYEN U13, 40170 SHAH ALAM,']\n",
      "the numbers array is: \n",
      "[['491', '65', '230', '204'], ['493', '62', '256', '231'], ['439', '113', '276', '255'], ['331', '228', '300', '279'], ['447', '106', '327', '302'], ['418', '140', '352', '327'], ['463', '93', '378', '353']]\n",
      "return by backwards search\n"
     ]
    }
   ],
   "source": [
    "flag, n, l = forward_search(open_img(fields[0]), open_data(fields[0])['address'])"
   ]
  },
  {
   "cell_type": "code",
   "execution_count": 20,
   "metadata": {},
   "outputs": [
    {
     "data": {
      "text/plain": [
       "'NO. 17-G, JALAN SETIA INDAH (X) U13/X, SETIA ALAM, SEKSYEN U13, 40170 SHAH ALAM,'"
      ]
     },
     "execution_count": 20,
     "metadata": {},
     "output_type": "execute_result"
    }
   ],
   "source": [
    "open_data(fields[0])['address']"
   ]
  },
  {
   "cell_type": "code",
   "execution_count": 21,
   "metadata": {},
   "outputs": [
    {
     "data": {
      "text/plain": [
       "'NO. 17-G, JALAN SETIA INDAH (X) U13/X, SETIA ALAM, SEKSYEN U13, 40170 SHAH ALAM,'"
      ]
     },
     "execution_count": 21,
     "metadata": {},
     "output_type": "execute_result"
    }
   ],
   "source": [
    "l"
   ]
  },
  {
   "cell_type": "code",
   "execution_count": 22,
   "metadata": {},
   "outputs": [
    {
     "data": {
      "text/plain": [
       "[['447', '106', '327', '302'],\n",
       " ['418', '140', '352', '327'],\n",
       " ['463', '93', '378', '353']]"
      ]
     },
     "execution_count": 22,
     "metadata": {},
     "output_type": "execute_result"
    }
   ],
   "source": [
    "n"
   ]
  },
  {
   "cell_type": "code",
   "execution_count": 23,
   "metadata": {},
   "outputs": [],
   "source": [
    "flag, n, l = forward_search(open_img(fields[0]), open_data(fields[0])['total'])"
   ]
  },
  {
   "cell_type": "code",
   "execution_count": 24,
   "metadata": {},
   "outputs": [
    {
     "data": {
      "text/plain": [
       "'28.00'"
      ]
     },
     "execution_count": 24,
     "metadata": {},
     "output_type": "execute_result"
    }
   ],
   "source": [
    "open_data(fields[0])['total']"
   ]
  },
  {
   "cell_type": "code",
   "execution_count": 25,
   "metadata": {},
   "outputs": [
    {
     "data": {
      "text/plain": [
       "'28.00'"
      ]
     },
     "execution_count": 25,
     "metadata": {},
     "output_type": "execute_result"
    }
   ],
   "source": [
    "l"
   ]
  },
  {
   "cell_type": "code",
   "execution_count": 26,
   "metadata": {},
   "outputs": [
    {
     "data": {
      "text/plain": [
       "['391', '324', '751', '729']"
      ]
     },
     "execution_count": 26,
     "metadata": {},
     "output_type": "execute_result"
    }
   ],
   "source": [
    "n"
   ]
  },
  {
   "cell_type": "code",
   "execution_count": 27,
   "metadata": {},
   "outputs": [],
   "source": [
    "flag, n, l = forward_search(open_img(fields[0]), open_data(fields[0])['date'])"
   ]
  },
  {
   "cell_type": "code",
   "execution_count": 28,
   "metadata": {},
   "outputs": [
    {
     "data": {
      "text/plain": [
       "'04/09/2017'"
      ]
     },
     "execution_count": 28,
     "metadata": {},
     "output_type": "execute_result"
    }
   ],
   "source": [
    "open_data(fields[0])['date']"
   ]
  },
  {
   "cell_type": "code",
   "execution_count": 29,
   "metadata": {},
   "outputs": [
    {
     "data": {
      "text/plain": [
       "'04/09/2017'"
      ]
     },
     "execution_count": 29,
     "metadata": {},
     "output_type": "execute_result"
    }
   ],
   "source": [
    "l"
   ]
  },
  {
   "cell_type": "code",
   "execution_count": 30,
   "metadata": {},
   "outputs": [
    {
     "data": {
      "text/plain": [
       "['504', '24', '625', '600']"
      ]
     },
     "execution_count": 30,
     "metadata": {},
     "output_type": "execute_result"
    }
   ],
   "source": [
    "n"
   ]
  },
  {
   "cell_type": "code",
   "execution_count": 31,
   "metadata": {},
   "outputs": [
    {
     "name": "stdout",
     "output_type": "stream",
     "text": [
      "sdfasdfasdf\n",
      "dfasdfasdf\n",
      "fasdfasdf\n",
      "asdfasdf\n",
      "sdfasdf\n",
      "dfasdf\n",
      "fasdf\n",
      "asdf\n",
      "sdf\n",
      "df\n",
      "f\n",
      "\n"
     ]
    }
   ],
   "source": [
    "flag1, n1, l1 = forward_search(open_img(fields[0]), open_data(fields[0])['company'])\n",
    "flag2, n2, l2 = forward_search(open_img(fields[0]), open_data(fields[0])['date'])\n",
    "flag3, n3, l3 = forward_search(open_img(fields[0]), open_data(fields[0])['total'])\n",
    "flag4, n4, l4 = forward_search(open_img(fields[0]), open_data(fields[0])['address'])\n",
    "\n",
    "json_template = {}\n",
    "json_template['global attributes']=[]\n",
    "json_template['fields']=[]\n",
    "json_template['text_boxes']=[]\n",
    "\n"
   ]
  },
  {
   "cell_type": "code",
   "execution_count": 32,
   "metadata": {},
   "outputs": [
    {
     "data": {
      "text/plain": [
       "True"
      ]
     },
     "execution_count": 32,
     "metadata": {},
     "output_type": "execute_result"
    }
   ],
   "source": []
  }
 ],
 "metadata": {
  "kernelspec": {
   "display_name": "Python 3",
   "language": "python",
   "name": "python3"
  },
  "language_info": {
   "codemirror_mode": {
    "name": "ipython",
    "version": 3
   },
   "file_extension": ".py",
   "mimetype": "text/x-python",
   "name": "python",
   "nbconvert_exporter": "python",
   "pygments_lexer": "ipython3",
   "version": "3.6.9"
  }
 },
 "nbformat": 4,
 "nbformat_minor": 4
}
